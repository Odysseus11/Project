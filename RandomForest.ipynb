{
 "cells": [
  {
   "cell_type": "markdown",
   "metadata": {},
   "source": [
    "<H1>Multiple Classification Models for Churn Data</H1>\n",
    "<h2>Decision Tree, Random Forest, Logistic Regression, Support Vector Machine(SVM)</h2>\n",
    "<h4>All these models classify the inputs to a number of option (categories) depending on different methods and equations</h4>\n",
    "<p>Decision tree uses nodes (features) to classify the inputs and we determine which feature will go in the node with entropy.</p>\n",
    "<p>Random Forest is just a group of decision trees then the model will test each tree against the inputs and output the majority output.</p>\n",
    "<p>Logistic Regression is the most common classification model. It uses a certain function to determine the output.</p>\n",
    "<p>SVM models use multi-dimensional feature spaces to find hyperplanes that help to classify inputs.</p>"
   ]
  },
  {
   "cell_type": "markdown",
   "metadata": {},
   "source": [
    "<p>1. We import our data handling packages(preproccessing).</p>"
   ]
  },
  {
   "cell_type": "code",
   "execution_count": 1,
   "metadata": {},
   "outputs": [],
   "source": [
    "import numpy as np\n",
    "import pandas as pd\n",
    "input_file = \"churn_data.csv\""
   ]
  },
  {
   "cell_type": "markdown",
   "metadata": {},
   "source": [
    "<p>2. We get our data into the program.</p>"
   ]
  },
  {
   "cell_type": "code",
   "execution_count": 2,
   "metadata": {},
   "outputs": [],
   "source": [
    "data = pd.read_csv(input_file)"
   ]
  },
  {
   "cell_type": "markdown",
   "metadata": {},
   "source": [
    "<p>3. Preproccessing: here we do all the things we need to do to the data for the models to work cause all the models work with numeric data only (nominal or continuous).</p>"
   ]
  },
  {
   "cell_type": "markdown",
   "metadata": {},
   "source": [
    "<p>3.1. We start by knowing numbering the catogries inside each feature.</p>"
   ]
  },
  {
   "cell_type": "code",
   "execution_count": 3,
   "metadata": {},
   "outputs": [],
   "source": [
    "yndict = {'Yes': 1, 'No': 0}\n",
    "n = 0\n",
    "pdict = {}\n",
    "for i in data[\"PaymentMethod\"]:\n",
    "    if i not in pdict:\n",
    "        pdict[i] = n\n",
    "        n += 1\n",
    "n = 0\n",
    "cdict = {}\n",
    "for i in data[\"Contract\"]:\n",
    "    if i not in cdict:\n",
    "        cdict[i] = n\n",
    "        n += 1\n",
    "\n",
    "data[\"PaymentMethod\"] = data[\"PaymentMethod\"].replace(pdict)\n",
    "data[\"Contract\"] = data[\"Contract\"].replace(cdict)\n",
    "data[\"PhoneService\"] = data[\"PhoneService\"].replace(yndict)\n",
    "data[\"PaperlessBilling\"] = data[\"PaperlessBilling\"].replace(yndict)\n",
    "data[\"Churn\"] = data[\"Churn\"].replace(yndict)\n",
    "data[\"TotalCharges\"] = pd.to_numeric(data[\"TotalCharges\"])\n",
    "X = data[[\"tenure\", \"PhoneService\", \"Contract\", \"PaperlessBilling\",\n",
    "          \"PaymentMethod\", \"MonthlyCharges\", \"TotalCharges\"]]\n",
    "Y = data[\"Churn\"]"
   ]
  },
  {
   "cell_type": "markdown",
   "metadata": {},
   "source": [
    "<p>3.2. Here we split the data to training data and testing data to test the accuracy of our models.</p>"
   ]
  },
  {
   "cell_type": "code",
   "execution_count": 4,
   "metadata": {},
   "outputs": [],
   "source": [
    "from sklearn.model_selection import train_test_split\n",
    "X_train, X_test, y_train, y_test = train_test_split(X, Y)"
   ]
  },
  {
   "cell_type": "markdown",
   "metadata": {},
   "source": [
    "<p>4. We import our models packages.</p>"
   ]
  },
  {
   "cell_type": "code",
   "execution_count": 5,
   "metadata": {},
   "outputs": [],
   "source": [
    "from sklearn.ensemble import RandomForestClassifier\n",
    "from sklearn.tree import DecisionTreeClassifier\n",
    "from sklearn.linear_model import LogisticRegression\n",
    "from sklearn.svm import SVC"
   ]
  },
  {
   "cell_type": "markdown",
   "metadata": {},
   "source": [
    "<p>5. We create our models.</p>"
   ]
  },
  {
   "cell_type": "code",
   "execution_count": 6,
   "metadata": {},
   "outputs": [],
   "source": [
    "clfrt = RandomForestClassifier()\n",
    "clfdt = DecisionTreeClassifier()\n",
    "clflr = LogisticRegression(max_iter = 10**10)\n",
    "svm = SVC(kernel='poly', degree = 5)"
   ]
  },
  {
   "cell_type": "markdown",
   "metadata": {},
   "source": [
    "<p>6. We train our models on the training data set we splited earlier.</p>"
   ]
  },
  {
   "cell_type": "code",
   "execution_count": 7,
   "metadata": {
    "scrolled": false
   },
   "outputs": [
    {
     "data": {
      "text/plain": [
       "SVC(degree=5, kernel='poly')"
      ]
     },
     "execution_count": 7,
     "metadata": {},
     "output_type": "execute_result"
    }
   ],
   "source": [
    "clfrt.fit(X_train, y_train)\n",
    "clfdt.fit(X_train, y_train)\n",
    "clflr.fit(X_train, y_train)\n",
    "svm.fit(X_train, y_train)"
   ]
  },
  {
   "cell_type": "markdown",
   "metadata": {},
   "source": [
    "<p>7. We cheack the accuracy of our models against the testing data.</p>"
   ]
  },
  {
   "cell_type": "code",
   "execution_count": 8,
   "metadata": {},
   "outputs": [
    {
     "name": "stdout",
     "output_type": "stream",
     "text": [
      "Decision Tree accuracy = 0.7331061896649631\n",
      "Random Forest accuracy = 0.760931289040318\n",
      "Logistic Regression accuracy = 0.7938671209540034\n",
      "SVM accuracy = 0.7285633162975582\n"
     ]
    }
   ],
   "source": [
    "print(\"Decision Tree accuracy =\", clfdt.score(X_test, y_test))\n",
    "print(\"Random Forest accuracy =\", clfrt.score(X_test, y_test))\n",
    "print(\"Logistic Regression accuracy =\", clflr.score(X_test, y_test))\n",
    "print(\"SVM accuracy =\", svm.score(X_test, y_test))"
   ]
  },
  {
   "cell_type": "markdown",
   "metadata": {},
   "source": [
    "<p>8. We cheack each feature importance in the prediciton in trees and forest.</p>"
   ]
  },
  {
   "cell_type": "code",
   "execution_count": 9,
   "metadata": {
    "scrolled": true
   },
   "outputs": [
    {
     "name": "stdout",
     "output_type": "stream",
     "text": [
      "[0.14686365 0.00943921 0.16929201 0.02312483 0.05623604 0.32112945\n",
      " 0.27391481]\n",
      "[0.19870372 0.00830307 0.093026   0.02779337 0.07583013 0.30375733\n",
      " 0.29258638]\n"
     ]
    }
   ],
   "source": [
    "print(clfdt.feature_importances_)\n",
    "print(clfrt.feature_importances_)"
   ]
  },
  {
   "cell_type": "markdown",
   "metadata": {},
   "source": [
    "<p>9. We cheack the accuracy of our models against the training data which will show us which models have problems (like overfitting).</p>"
   ]
  },
  {
   "cell_type": "code",
   "execution_count": 10,
   "metadata": {},
   "outputs": [
    {
     "name": "stdout",
     "output_type": "stream",
     "text": [
      "Decision Tree accuracy = 0.996024233244983\n",
      "Random Forest accuracy = 0.996024233244983\n",
      "Logistic Regression accuracy = 0.7978038621734191\n",
      "SVM accuracy = 0.7366527830367285\n"
     ]
    }
   ],
   "source": [
    "print(\"Decision Tree accuracy =\", clfdt.score(X_train, y_train))\n",
    "print(\"Random Forest accuracy =\", clfrt.score(X_train, y_train))\n",
    "print(\"Logistic Regression accuracy =\", clflr.score(X_train, y_train))\n",
    "print(\"SVM accuracy =\", svm.score(X_train, y_train))"
   ]
  }
 ],
 "metadata": {
  "kernelspec": {
   "display_name": "Python 3",
   "language": "python",
   "name": "python3"
  },
  "language_info": {
   "codemirror_mode": {
    "name": "ipython",
    "version": 3
   },
   "file_extension": ".py",
   "mimetype": "text/x-python",
   "name": "python",
   "nbconvert_exporter": "python",
   "pygments_lexer": "ipython3",
   "version": "3.8.5"
  }
 },
 "nbformat": 4,
 "nbformat_minor": 4
}
